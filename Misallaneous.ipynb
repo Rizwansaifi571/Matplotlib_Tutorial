{
 "cells": [
  {
   "cell_type": "markdown",
   "metadata": {},
   "source": [
    "# __Extra Knowledge.__\n",
    "Date : 17, March, 2024."
   ]
  },
  {
   "cell_type": "markdown",
   "metadata": {},
   "source": [
    "__WAFFLE CHART.__\n",
    "\n",
    "- A waffle chart is a visualization method used to represent data in a grid of small squares or cells. Each cell in the grid corresponds to a portion or    percentage of the whole dataset being visualized. Waffle charts are effective for illustrating parts-to-whole relationships and comparing categorical data.\n",
    "\n",
    "- Example : Draw waffle chart."
   ]
  }
 ],
 "metadata": {
  "kernelspec": {
   "display_name": "Python 3",
   "language": "python",
   "name": "python3"
  },
  "language_info": {
   "codemirror_mode": {
    "name": "ipython",
    "version": 3
   },
   "file_extension": ".py",
   "mimetype": "text/x-python",
   "name": "python",
   "nbconvert_exporter": "python",
   "pygments_lexer": "ipython3",
   "version": "3.11.8"
  }
 },
 "nbformat": 4,
 "nbformat_minor": 2
}
