{
 "cells": [
  {
   "cell_type": "markdown",
   "metadata": {},
   "source": [
    "# __Matplotlib BoxPLot.__  \n",
    "Date : 28, Jan, 2024."
   ]
  },
  {
   "cell_type": "markdown",
   "metadata": {},
   "source": [
    "-> __Introduction to Box Plots.__    \n",
    "Box plots are excellent tools for visualizing the distribution of numerical data through quartiles. The plot comprises several key components:\n",
    "\n",
    "* Box: Represents the interquartile range (IQR), the middle 50% of the data.\n",
    "* Whiskers: Extend from the box and indicate the range of the data. Outliers may be displayed beyond the whiskers.\n",
    "* Median Line: Inside the box, representing the median value.\n",
    "* Outliers: Data points that fall significantly beyond the whiskers."
   ]
  },
  {
   "cell_type": "markdown",
   "metadata": {},
   "source": [
    "Example : Basic Box PLot."
   ]
  },
  {
   "cell_type": "code",
   "execution_count": 1,
   "metadata": {},
   "outputs": [],
   "source": [
    "import matplotlib.pyplot as plt \n",
    "import numpy as np "
   ]
  },
  {
   "cell_type": "code",
   "execution_count": 2,
   "metadata": {},
   "outputs": [
    {
     "data": {
      "image/png": "[encoded data removed]",
      "text/plain": [
       "<Figure size 640x480 with 1 Axes>"
      ]
     },
     "metadata": {},
     "output_type": "display_data"
    }
   ],
   "source": [
    "# Generate random data for demonstration\n",
    "data = np.random.randn(100)\n",
    "\n",
    "# Create a basic box plot\n",
    "plt.boxplot(data)\n",
    "plt.title('Basic Box Plot')\n",
    "plt.show()"
   ]
  }
 ],
 "metadata": {
  "kernelspec": {
   "display_name": "Python 3",
   "language": "python",
   "name": "python3"
  },
  "language_info": {
   "codemirror_mode": {
    "name": "ipython",
    "version": 3
   },
   "file_extension": ".py",
   "mimetype": "text/x-python",
   "name": "python",
   "nbconvert_exporter": "python",
   "pygments_lexer": "ipython3",
   "version": "3.11.4"
  }
 },
 "nbformat": 4,
 "nbformat_minor": 2
}
