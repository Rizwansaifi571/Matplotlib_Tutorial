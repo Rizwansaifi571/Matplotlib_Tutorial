{
 "cells": [
  {
   "cell_type": "markdown",
   "metadata": {},
   "source": [
    "# __Matplotlib BoxPLot.__  \n",
    "Date : 28, Jan, 2024."
   ]
  },
  {
   "cell_type": "markdown",
   "metadata": {},
   "source": [
    "-> __Introduction to Box Plots.__    \n",
    "Box plots are excellent tools for visualizing the distribution of numerical data through quartiles. The plot comprises several key components:\n",
    "\n",
    "* Box: Represents the interquartile range (IQR), the middle 50% of the data.\n",
    "* Whiskers: Extend from the box and indicate the range of the data. Outliers may be displayed beyond the whiskers.\n",
    "* Median Line: Inside the box, representing the median value.\n",
    "* Outliers: Data points that fall significantly beyond the whiskers."
   ]
  }
 ],
 "metadata": {
  "language_info": {
   "name": "python"
  }
 },
 "nbformat": 4,
 "nbformat_minor": 2
}
